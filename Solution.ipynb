{
 "cells": [
  {
   "cell_type": "code",
   "execution_count": 20,
   "id": "b98fe297",
   "metadata": {},
   "outputs": [],
   "source": [
    "import numpy as np"
   ]
  },
  {
   "cell_type": "code",
   "execution_count": 21,
   "id": "a1798ae7",
   "metadata": {},
   "outputs": [],
   "source": [
    "array = np.loadtxt(fname='./10m.txt', dtype=int)"
   ]
  },
  {
   "cell_type": "code",
   "execution_count": 22,
   "id": "8767a88e",
   "metadata": {},
   "outputs": [
    {
     "data": {
      "text/plain": [
       "array([  9207923,  36057755,  31143273,  49819201,  22326822,  22757897,\n",
       "       -32357672, -12419648,  -3802567, -37382727])"
      ]
     },
     "execution_count": 22,
     "metadata": {},
     "output_type": "execute_result"
    }
   ],
   "source": [
    "array[0:10]"
   ]
  },
  {
   "cell_type": "code",
   "execution_count": 23,
   "id": "7e4aaf43",
   "metadata": {},
   "outputs": [
    {
     "name": "stdout",
     "output_type": "stream",
     "text": [
      "Максимальне число в масиві: 49999978\n"
     ]
    }
   ],
   "source": [
    "max_num = np.max(array)\n",
    "print(f\"Максимальне число в масиві: {max_num}\")"
   ]
  },
  {
   "cell_type": "code",
   "execution_count": 24,
   "id": "67d014a7",
   "metadata": {},
   "outputs": [
    {
     "name": "stdout",
     "output_type": "stream",
     "text": [
      "Мінімальне число в масиві: -49999996\n"
     ]
    }
   ],
   "source": [
    "min_num = np.min(array)\n",
    "print(f\"Мінімальне число в масиві: {min_num}\")"
   ]
  },
  {
   "cell_type": "code",
   "execution_count": 25,
   "id": "e9ff50c6",
   "metadata": {},
   "outputs": [
    {
     "name": "stdout",
     "output_type": "stream",
     "text": [
      "Середнє значення: 7364.418442641844\n"
     ]
    }
   ],
   "source": [
    "mean = np.mean(array)\n",
    "print(f\"Середнє значення: {mean}\")"
   ]
  },
  {
   "cell_type": "code",
   "execution_count": 26,
   "id": "8e204ffe",
   "metadata": {},
   "outputs": [
    {
     "name": "stdout",
     "output_type": "stream",
     "text": [
      "Медіана: 25216.0\n"
     ]
    }
   ],
   "source": [
    "median = np.median(array)\n",
    "print(f\"Медіана: {median}\")"
   ]
  },
  {
   "cell_type": "code",
   "execution_count": 27,
   "id": "1a2a3704",
   "metadata": {},
   "outputs": [],
   "source": [
    "def find_largest_sequence_asc(a: np.array):\n",
    "    max_length = 1\n",
    "    max_start = 0\n",
    "    \n",
    "    cur_length = 1\n",
    "    for i in np.arange(1, a.shape[0]):\n",
    "        if a[i] > a[i-1]:\n",
    "            cur_length += 1\n",
    "            if cur_length > max_length:\n",
    "                max_length = cur_length\n",
    "                max_start = i - max_length + 1\n",
    "        else:\n",
    "            cur_length = 1\n",
    "    \n",
    "    return a[max_start: max_start + max_length]\n",
    "        \n",
    "\n",
    "\n",
    "def find_largest_sequence_desc(a: np.array):\n",
    "    max_length = 1\n",
    "    max_start = 0\n",
    "    \n",
    "    cur_length = 1\n",
    "    for i in np.arange(1, a.shape[0]):\n",
    "        if a[i] < a[i-1]:\n",
    "            cur_length += 1\n",
    "            if cur_length > max_length:\n",
    "                max_length = cur_length\n",
    "                max_start = i - max_length + 1\n",
    "        else:\n",
    "            cur_length = 1\n",
    "    \n",
    "    return a[max_start: max_start + max_length]\n",
    "        \n",
    "        \n",
    "def find_largest_sequence(a: np.array, descending=False):\n",
    "    if not descending:\n",
    "        return find_largest_sequence_asc(a)\n",
    "    \n",
    "    return find_largest_sequence_desc(a)"
   ]
  },
  {
   "cell_type": "code",
   "execution_count": 28,
   "id": "23fd48f1",
   "metadata": {},
   "outputs": [
    {
     "name": "stdout",
     "output_type": "stream",
     "text": [
      "Найбільша послідовність, що збільшується: -48190694, -47725447, -43038241, -20190291, -17190728, -6172572, 8475960, 25205909, 48332507, 48676185\n",
      "Найбільша послідовність, що зменшується: 47689379, 42381213, 30043880, 12102356, -4774057, -5157723, -11217378, -23005285, -23016933, -39209115, -49148762\n"
     ]
    }
   ],
   "source": [
    "ascending_sequence = find_largest_sequence(array, descending=False)\n",
    "descending_sequence = find_largest_sequence(array, descending=True)\n",
    "ascending_seq_text = ', '.join(map(str, ascending_sequence))\n",
    "descending_seq_text = ', '.join(map(str, descending_sequence))\n",
    "\n",
    "print(f\"Найбільша послідовність, що збільшується: {ascending_seq_text}\\n\" \\\n",
    "       f\"Найбільша послідовність, що зменшується: {descending_seq_text}\")"
   ]
  }
 ],
 "metadata": {
  "kernelspec": {
   "display_name": "Python 3 (ipykernel)",
   "language": "python",
   "name": "python3"
  },
  "language_info": {
   "codemirror_mode": {
    "name": "ipython",
    "version": 3
   },
   "file_extension": ".py",
   "mimetype": "text/x-python",
   "name": "python",
   "nbconvert_exporter": "python",
   "pygments_lexer": "ipython3",
   "version": "3.9.18"
  }
 },
 "nbformat": 4,
 "nbformat_minor": 5
}
